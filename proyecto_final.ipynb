{
 "cells": [
  {
   "cell_type": "markdown",
   "metadata": {},
   "source": [
    "# Proyecto final - Bootcamp LLM - CF - 2024\n",
    "\n",
    "*Illak Zapata*\n",
    "\n",
    "Me desvié un poquito del enunciado original pero intenté mantener la esencia de lo que se pedía y al mismo tiempo programar algo que me sea útil en mi día a día.\n",
    "\n",
    "Tecnología utilizada:\n",
    "\n",
    "* LLM: Gemini de Google\n",
    "* LangChain 🦜🔗\n",
    "* LangSmith 🦜🛠️ para debugging\n",
    "* LangGraph 🦜🕸️ para construir aplicaciones *\"multiagente\"*\n",
    "\n",
    "El grafo final consiste de 5 agentes (aunque en la imágen se vean 4).\n",
    "\n",
    "\n",
    "![grafo_app.jpeg](grafo_app.jpeg)"
   ]
  },
  {
   "cell_type": "markdown",
   "metadata": {},
   "source": [
    "## Instalamos toda la paqueteria necesaria"
   ]
  },
  {
   "cell_type": "code",
   "execution_count": null,
   "metadata": {},
   "outputs": [],
   "source": [
    "! python -m pip install langchain\n",
    "! python -m pip install --upgrade --quiet  langchain-google-genai pillow\n",
    "! python -m pip install langchain_experimental\n",
    "! python -m pip install -U langsmith\n",
    "! python -m pip install -U langgraph\n",
    "! python -m pip install httpx\n",
    "! python -m pip install --upgrade google-api-python-client google-auth-httplib2 google-auth-oauthlib\n",
    "! python -m pip install --upgrade --quiet langchain-google-community[drive]\n",
    "! python -m pip install --upgrade --quiet  nest_asyncio\n",
    "! python -m pip install --upgrade --quiet unstructured\n",
    "! python -m pip install -qU langchain-text-splitters"
   ]
  },
  {
   "cell_type": "markdown",
   "metadata": {},
   "source": [
    "## Cargamos credenciales\n",
    "\n",
    "El archivo `config.yml` debe tener las siguientes variables:"
   ]
  },
  {
   "cell_type": "code",
   "execution_count": 5,
   "metadata": {},
   "outputs": [],
   "source": [
    "import os\n",
    "import yaml\n",
    "\n",
    "config = yaml.safe_load(open(\"config.yml\"))\n",
    "\n",
    "#os.environ[\"OPENROUTER_API_KEY\"] = config[\"OPENROUTER_API_KEY\"]\n",
    "os.environ[\"LANGCHAIN_API_KEY\"] = config[\"LANGCHAIN_API_KEY\"]\n",
    "os.environ[\"LANGCHAIN_TRACING_V2\"] = str(config[\"LANGCHAIN_TRACING_V2\"]).lower()\n",
    "os.environ[\"LANGCHAIN_ENDPOINT\"] = config[\"LANGCHAIN_ENDPOINT\"]\n",
    "os.environ[\"LANGCHAIN_PROJECT\"] = config[\"LANGCHAIN_PROJECT\"]\n",
    "os.environ[\"LANGCHAIN_HUB_API_KEY\"] = config[\"LANGCHAIN_API_KEY\"]\n",
    "os.environ[\"LANGCHAIN_HUB_API_URL\"] = config[\"LANGCHAIN_HUB_API_URL\"]\n",
    "os.environ[\"GOOGLE_API_KEY\"] = config[\"GOOGLE_API_KEY\"]\n",
    "\n",
    "GOOGLE_API_KEY = config[\"GOOGLE_API_KEY\"]"
   ]
  },
  {
   "cell_type": "markdown",
   "metadata": {},
   "source": [
    "Aunque la única clave que nos interesa para levantar el proyecto es la `GOOGLE_API_KEY`, necesaria para levantar el LLM de Google.\n",
    "Otra variable de mucha utilidad es `LANGCHAIN_TRACING_V2` para debuggear usando \"Langchain\"."
   ]
  },
  {
   "cell_type": "markdown",
   "metadata": {},
   "source": [
    "## Cargamos Modelo LLM (Gemini)\n",
    "\n",
    "Para este proyecto se hará uso de los modelos Gemini de Google"
   ]
  },
  {
   "cell_type": "code",
   "execution_count": 6,
   "metadata": {},
   "outputs": [],
   "source": [
    "from langchain_google_genai import ChatGoogleGenerativeAI\n",
    "\n",
    "llm = ChatGoogleGenerativeAI(\n",
    "    model=\"gemini-1.5-flash\",\n",
    "    temperature=0,\n",
    "    max_tokens=None,\n",
    "    timeout=None,\n",
    "    max_retries=4,\n",
    "    google_api_key=GOOGLE_API_KEY,\n",
    "    # other params...\n",
    ")"
   ]
  },
  {
   "cell_type": "markdown",
   "metadata": {},
   "source": [
    "Notar que podemos alternar entre lo [siguientes modelos](https://ai.google.dev/gemini-api/docs/models/gemini?hl=es-419):\n",
    "\n",
    "- gemini-1.0-pro\n",
    "- gemini-1.5-flash\n",
    "- gemini-1.5-pro\n",
    "\n",
    "Ordenados de mayor a menor cantidad de uso (capa gratuita)."
   ]
  },
  {
   "cell_type": "markdown",
   "metadata": {},
   "source": [
    "## Obtenemos documentos a partir del sitemap del sitio en cuestión"
   ]
  },
  {
   "cell_type": "code",
   "execution_count": 7,
   "metadata": {},
   "outputs": [],
   "source": [
    "# fixes a bug with asyncio and jupyter\n",
    "import nest_asyncio\n",
    "\n",
    "nest_asyncio.apply()"
   ]
  },
  {
   "cell_type": "code",
   "execution_count": 8,
   "metadata": {},
   "outputs": [
    {
     "name": "stderr",
     "output_type": "stream",
     "text": [
      "USER_AGENT environment variable not set, consider setting it to identify your requests.\n",
      "c:\\Users\\ISEP\\proyectos\\web_RAG\\.conda\\Lib\\site-packages\\urllib3\\connectionpool.py:1103: InsecureRequestWarning: Unverified HTTPS request is being made to host 'isep-cba.edu.ar'. Adding certificate verification is strongly advised. See: https://urllib3.readthedocs.io/en/latest/advanced-usage.html#tls-warnings\n",
      "  warnings.warn(\n",
      "Fetching pages: 100%|##########| 12/12 [00:22<00:00,  1.89s/it]\n"
     ]
    }
   ],
   "source": [
    "from langchain_community.document_loaders.sitemap import SitemapLoader\n",
    "\n",
    "sitemap_loader = SitemapLoader(web_path=\"https://isep-cba.edu.ar/web/post-sitemap.xml\",\n",
    "                               filter_urls=[\"https://isep-cba.edu.ar/web/2024\"], )\n",
    "\n",
    "sitemap_loader.requests_per_second = 2\n",
    "# Optional: avoid `[SSL: CERTIFICATE_VERIFY_FAILED]` issue\n",
    "sitemap_loader.requests_kwargs = {\"verify\": False}\n",
    "\n",
    "docs = sitemap_loader.load()"
   ]
  },
  {
   "cell_type": "markdown",
   "metadata": {},
   "source": [
    "Chequamos que estamos trayendo algo de contenido:"
   ]
  },
  {
   "cell_type": "code",
   "execution_count": 184,
   "metadata": {},
   "outputs": [
    {
     "data": {
      "text/plain": [
       "'\\n\\n\\n\\n\\n\\n\\n\\n\\n\\n\\nPrematriculaciones abiertas para las propuestas que se iniciarán en el segundo semestre de 2024 | ISEP\\n\\n\\n\\n\\n\\n\\n\\n\\n\\n\\n\\n\\n\\n\\n\\n\\n\\n\\n\\n\\n\\n\\n\\n\\n\\n\\n\\n\\n\\n\\n\\n\\n\\n\\n\\n\\n\\n\\n\\n\\n\\n\\n\\n\\n\\n\\n\\n\\n\\n\\n\\n\\n\\n\\n\\n\\n\\n\\n\\n\\n\\n\\n\\n\\n\\n\\n\\n\\n\\n\\n\\n\\n\\n\\n\\n\\n\\n\\n\\n\\nPortal ISEP\\n\\n\\nIniciar sesión\\n\\n\\n\\n\\n\\nFacebook\\n\\n\\nFacebook\\n\\n\\n\\n\\nYouTube\\n\\n\\nYouTube\\n\\n\\n\\n\\nInstagram\\n\\n\\nInstagram\\n\\nMenúInstitucional\\n\\nSobre el ISEP\\n\\nQuiénes somos \\nEquipos de trabajo \\nIntegrantes del ISEP \\nIFD Asociados al ISEP \\nAutoridades \\n\\n\\nProgramas institucionales\\n\\nNuevos lugares docentes \\nEntre Lenguas \\nCultura Digital \\nHablar, leer y escribir \\n\\n\\n\\n\\nPublicaciones\\n\\nRevista Scholé \\nLibros\\n\\nColección “Pedagogía y Cultura” \\n\\n\\nItinerarios en el tiempo \\nAnuarios\\n\\n2022 \\n2023 \\n\\n\\n\\n\\nNuestras plataformas\\n\\nHacemos Escuela \\nCanal ISEP en YouTube \\n\\n\\nOferta académica\\n\\nExplorá nuestras propuestas formativas \\nSobre nuestra oferta académica \\nReglamento Académico Institucional \\n\\n\\nInscripciones\\nContacto\\nBuscar\\n\\n\\n\\n\\n\\n\\n\\n\\nPrematriculaciones abiertas para las propuestas que se iniciarán en el segundo semestre de 2024\\n\\nmayo 27, 2024Micaela Militich \\n\\n\\n\\n\\n\\n\\n\\nEl período de inscripción comienza el 30 de mayo y permanecerá abierto hasta completar el cupo disponible en cada una de las propuestas. Conocé, en esta nota, toda la información sobre cómo concretar el proceso de prematriculación.\\n\\n\\n\\n\\n\\nDesde el Instituto Superior de Estudios Pedagógicos (ISEP) informamos que se encuentra abierto el período de prematriculación para diversas propuestas formativas.\\nLos/las interesados/as podrán realizar el trámite de prematriculación a través de nuestro portal web: www.isep-cba.edu.ar, ingresando a la pestaña Inscripciones, o haciendo clic aquí.\\nCada una de las propuestas permanecerá abierta hasta completar el cupo disponible. En ese sentido, es importante tener en cuenta que el proceso de prematriculación considerará el orden de inscripción.\\xa0\\n\\n\\nPREMATRICULARSE\\n\\n\\n\\nAcompañamiento a los Procesos de Inclusión en Educación Especial\\nAbordará la posición y las prácticas del docente de apoyo a la inclusión, inscriptas en una trama institucional que tiene en cuenta los aportes ligados a la especificidad de la educación especial, lo que habilita a repensar al sujeto de la inclusión en tanto sujeto de aprendizaje.\\nInicio del cursado: agosto de 2024.\\n\\n\\n\\n\\n\\n\\nCiclo Enseñar en la Modalidad Combinada en el Nivel Superior\\n\\n\\n\\n\\n“Laboratorio: Curaduría de Materiales”\\nPropone un recorrido experiencial por herramientas digitales que permitan diseñar materiales educativos para la enseñanza.\\nInicio del cursado: agosto de 2024.\\xa0\\xa0\\xa0\\xa0\\xa0\\xa0\\xa0\\n\\n\\n“Inteligencia Artificial y Escuela”\\nOfrece ejercicios de búsqueda, análisis y exploración de plataformas de inteligencia artificial, poniéndolos en diálogo con los desafíos que suponen para la escuela.\\nInicio del cursado: agosto de 2024. \\xa0\\xa0\\xa0\\xa0\\xa0\\n\\n\\n\\n\\n\\nImportante |\\xa0Estos dos seminarios no pueden cursarse en simultáneo, por lo que se debe seleccionar solo uno de ellos. Quien haya aprobado o esté cursando la Actualización Académica en Herramientas Digitales, podrá inscribirse únicamente al seminario Inteligencia Artificial y Escuela.\\n\\n\\n“Análisis de Propuestas de Enseñanza en la Modalidad Combinada” \\nIndaga las potencialidades que otorgan diferentes entornos sociotécnicos para la enseñanza. Atiende, especialmente, al rol de las herramientas digitales en los distintos escenarios.\\nInicio del cursado: octubre de 2024.\\nCiclo Ciencias de la Computación en la Escuela\\n\\n\\n\\n\\n“Análisis de Propuestas de Enseñanza”\\nPone énfasis en el aspecto didáctico. Se trabaja a partir de secuencias didácticas que abordan las temáticas presentadas en el seminario disciplinar y que forman parte del conjunto de contenidos por enseñar de las Ciencias de la Computación.\\nInicio del cursado: agosto de 2024. \\xa0 \\xa0\\n\\n\\n“Ciencias de la Computación y su Enseñanza”\\nPropone una introducción al campo disciplinar concreto de las Ciencias de la Computación y a algunas cuestiones fundamentales para tener en cuenta a la hora de su enseñanza.\\nInicio del cursado: octubre de 2024.\\n\\n\\n\\n\\n\\nImportante | En el caso de los ciclos de Ciencias de la Computación y Modalidad Combinada, se ofrecen los dos seminarios que se cursarán durante el segundo semestre del 2024, no de forma simultánea, sino consecutiva (agosto / octubre). Por lo tanto, quienes quieran dar continuidad al Ciclo deberán inscribirse ahora en los dos seminarios.\\n\\nCiclo Entre la Pedagogía y la Cultura\\nBusca abordar el vasto campo de la pedagogía y la cultura, y el vínculo que las enlaza, desde perspectivas que gozan de un importante reconocimiento intelectual y público, aunque no todas provengan del campo educativo en su definición más estricta.\\nSeminarios disponibles:\\xa0\\n\\n\\n\\n\\n“Vidas con bandas sonoras. Músicas e identidades en la Argentina”\\nInicio del cursado:\\n agosto de 2024.\\n\\n\\n“Tecnología y Cultura: lo nuevo y lo viejo de la inteligencia artificial”\\nInicio del cursado:\\n1° edición 2024: agosto.\\n2° edición 2024: octubre.\\n\\n\\n\\n\\n“Imágenes de San Martín”\\nInicio del cursado:\\n1° edición 2024: agosto.\\n2° edición 2024: octubre.\\n\\n\\n“Jacques Rancière: del maestro ignorante al espectador emancipado”\\nInicio del cursado:\\nagosto de 2024.\\n\\n\\n\\n\\n“La exploración del espacio y la estatura del hombre”\\nInicio del cursado: \\noctubre de 2024.\\n\\n\\n“La evolución de lo viviente: Darwin imprescindible”\\nInicio del cursado:\\noctubre de 2024.\\n\\n\\n\\n\\n\\n\\n\\n\\nAbordaje y resolución de situaciones problemáticas desde el currículum con énfasis en Matemáticas en la Educación Inicial\\nBusca aportar a una meta formativa que no comprende solo el saber de contenidos y habilidades matemáticas, sino, fundamentalmente, el desarrollo de capacidades para entender y aplicar los modos de pensamiento y razonamiento propios de la disciplina.\\nInicio del cursado:\\n1° edición 2024: agosto. \\n2° edición 2024: octubre.\\nOralidad, Lectura y Escritura desde el currículum con énfasis en Lengua y Literatura en la Educación Inicial\\nBusca revisar tradiciones y supuestos sobre el lenguaje, su adquisición y su enseñanza,\\xa0 los que configuran las prácticas áulicas, las propuestas de enseñanza y las reflexiones epistemológicas y pedagógicas en el nivel Inicial.\\nInicio del cursado:\\n1° edición 2024: agosto. \\n2° edición 2024: octubre\\nEl acompañamiento a las trayectorias escolares en la escuela posible\\nPropone la construcción de una posición pedagógica que se comprometa con la tarea de generar las mejores condiciones institucionales posibles para incluir y alojar a todos, atendiendo a las particularidades de cada uno.\\nInicio del cursado:\\n1° edición 2024: agosto\\n2° edición 2024: octubre\\n\\n\\n\\n\\n\\n\\n\\n\\n\\n\\nAteneo de Inglés Jornada Extendida – Educación Primaria\\nSe orienta a acompañar un proceso de análisis e implementación de los materiales con los que cuenta el programa Entre Lenguas para cuarto, quinto y sexto grado. Estas publicaciones se encuentran alojadas en la plataforma Hacemos escuela y están disponibles para su uso.\\nInicio del cursado: agosto de 2024.\\n\\n\\nAteneo de Inglés / Quinta Hora – Primer Ciclo de la Educación Primaria\\nPropone un acercamiento a las propuestas de enseñanza del Primer Ciclo, a sus supuestos y decisiones, promoviendo así un análisis didáctico que permita un ejercicio de implementación y la reflexión posterior sobre la experiencia.\\nInicio del cursado: octubre de\\xa0 2024.\\xa0\\xa0\\n\\n\\n\\n\\n\\n\\n\\n\\n\\n\\nCiclo de talleres Tecno Presente en el aula: Apps para enseñar en la escuela hoy\\n\\n\\n\\n\\n“GeoGebra en la enseñanza de la Matemática”\\nSe propone el uso y la manipulación de GeoGebra para la enseñanza de la Matemática, al abordar condiciones técnicas de la herramienta y consideraciones didácticas del campo disciplinar.\\nInicio del cursado: agosto de 2024.\\n\\n\\n“Simuladores en la enseñanza de las Ciencias Naturales”\\nSe propone el uso y la manipulación de simuladores para la enseñanza de las Ciencias Naturales, al abordar condiciones técnicas de las herramientas y consideraciones didácticas del campo disciplinar. \\nInicio de cursado: agosto de 2024.\\n\\n\\n\\n“2MP: aproximación a los entornos geoespaciales en la enseñanza de Ciencias Sociales”\\nSe propone el uso del software 2MP para la enseñanza de Ciencias Sociales, al abordar las condiciones técnicas de esta herramienta y las consideraciones didácticas del campo disciplinar.\\nInicio del cursado: octubre de 2024.\\n\\n“Inteligencia artificial. Aportes para enseñar la escritura en la escuela”\\xa0\\nSe propone el uso y la manipulación de la inteligencia artificial generativa para la enseñanza de Lengua, al abordar condiciones técnicas de herramientas que utilizan esta tecnología y consideraciones didácticas del campo disciplinar. \\nInicio del cursado: octubre de 2024.\\n\\n\\n\\n\\n\\n\\n\\n\\n\\nPor cualquier duda, se encuentra disponible nuestro servicio de Mesa de Ayuda. Personalmente, en Agustín Garzón 1229, barrio San Vicente (Córdoba); telefónicamente, al (0351) 433-8615; escribiendo un correo electrónico a mesadeayuda@isep-cba.edu.ar, o a través de la página institucional de Facebook: Instituto Superior de Estudios Pedagógicos – ISEP.\\n\\n\\n\\n\\n\\n\\n\\n\\n\\n\\n\\n\\n\\n\\n\\n\\n\\n\\nUbicación: Agustín Garzón 1229.\\nBarrio San Vicente, Córdoba, Argentina.\\n\\xa0 \\xa0 0351 4338615\\n\\xa0 \\xa0info@isep-cba.edu.ar\\nTeléfono: 0351 – 4338615.\\n\\n\\n\\n\\n\\nMESA DE AYUDA:\\nE-mail: mesadeayuda@isep-cba.edu.ar\\nTeléfono: (0351) 4 33 8615\\nHorario de atención: de lunes a viernes\\nde 9 a 19 hs\\n\\n\\n\\n\\n\\n\\n\\xa0\\nLos contenidos de este portal se rigen bajo la\\nLicencia Creative Commons\\nAtribución No Comercial 4.0 Internacional \\n\\n\\n\\n\\n\\nMenú\\n\\n\\n\\n\\n\\n\\n\\n\\n\\n\\n\\n\\n\\n\\n'"
      ]
     },
     "execution_count": 184,
     "metadata": {},
     "output_type": "execute_result"
    }
   ],
   "source": [
    "docs[6].page_content"
   ]
  },
  {
   "cell_type": "markdown",
   "metadata": {},
   "source": [
    "Sólo me interesan los post de este año (2024), verifiquemos si estamos trayendo estos datos:"
   ]
  },
  {
   "cell_type": "code",
   "execution_count": 185,
   "metadata": {},
   "outputs": [
    {
     "name": "stdout",
     "output_type": "stream",
     "text": [
      "https://isep-cba.edu.ar/web/2024/07/24/el-ingles-en-la-escuela-primaria-algunas-pistas-para-pensar-juntos/\n",
      "https://isep-cba.edu.ar/web/2024/07/03/ya-salio-la-edicion-n-14-de-la-revista-schole/\n",
      "https://isep-cba.edu.ar/web/2024/06/14/de-coleccion-jacques-ranciere-filosoficos-de-obra-de-un-maestro-ignorante/\n",
      "https://isep-cba.edu.ar/web/2024/04/15/el-isep-a-8-anos-de-su-creacion-sigue-aportando-a-la-agenda-de-la-formacion-docente-de-la-provincia/\n",
      "https://isep-cba.edu.ar/web/2024/06/04/nuevos-horarios-de-atencion-en-isep-por-tareas-de-mantenimiento-edilicias/\n",
      "https://isep-cba.edu.ar/web/2024/06/18/ya-podes-sumarte-al-canal-de-difusion-en-whatsapp-del-isep/\n",
      "https://isep-cba.edu.ar/web/2024/05/27/prematriculaciones-abiertas-para-las-propuestas-que-iniciaran-en-el-segundo-semestre-de-2024/\n",
      "https://isep-cba.edu.ar/web/2024/05/08/beatriz-greco-la-pregunta-es-como-salir-de-la-perspectiva-individualizante-e-inscribir-al-concepto-de-autoridad-y-a-su-ejercicio-en-una-perspectiva-institucional/\n",
      "https://isep-cba.edu.ar/web/2024/03/20/lo-nuevo-y-lo-viejo-de-la-inteligencia-artificial-y-su-presencia-en-el-campo-educativo/\n",
      "https://isep-cba.edu.ar/web/2024/02/05/prematriculaciones-abiertas-conoce-las-propuestas-formativas-disponibles/\n",
      "https://isep-cba.edu.ar/web/2024/04/03/trayecto-pedagogico-para-graduados-no-docentes-prematriculaciones-abiertas-en-el-isep/\n",
      "https://isep-cba.edu.ar/web/2024/03/06/prueba/\n"
     ]
    }
   ],
   "source": [
    "len(docs)\n",
    "\n",
    "for doc in docs:\n",
    "    print(doc.metadata['source'])"
   ]
  },
  {
   "cell_type": "markdown",
   "metadata": {},
   "source": [
    "todo OK!! 👌👌"
   ]
  },
  {
   "cell_type": "markdown",
   "metadata": {},
   "source": [
    "## Creamos el INDEX"
   ]
  },
  {
   "cell_type": "markdown",
   "metadata": {},
   "source": [
    "Vamos a usar [FAISS](https://python.langchain.com/v0.2/docs/integrations/vectorstores/faiss/) para la BD vectorial."
   ]
  },
  {
   "cell_type": "code",
   "execution_count": 187,
   "metadata": {},
   "outputs": [
    {
     "name": "stderr",
     "output_type": "stream",
     "text": [
      "Created a chunk of size 2948, which is longer than the specified 1200\n",
      "Created a chunk of size 1509, which is longer than the specified 1200\n",
      "Created a chunk of size 1570, which is longer than the specified 1200\n",
      "Created a chunk of size 1283, which is longer than the specified 1200\n",
      "Created a chunk of size 1708, which is longer than the specified 1200\n",
      "Created a chunk of size 2323, which is longer than the specified 1200\n",
      "Created a chunk of size 2575, which is longer than the specified 1200\n",
      "Created a chunk of size 1762, which is longer than the specified 1200\n",
      "Created a chunk of size 1210, which is longer than the specified 1200\n",
      "Created a chunk of size 5867, which is longer than the specified 1200\n",
      "Created a chunk of size 3466, which is longer than the specified 1200\n",
      "Created a chunk of size 3226, which is longer than the specified 1200\n",
      "Created a chunk of size 1763, which is longer than the specified 1200\n",
      "Created a chunk of size 1226, which is longer than the specified 1200\n"
     ]
    },
    {
     "name": "stdout",
     "output_type": "stream",
     "text": [
      "77\n"
     ]
    }
   ],
   "source": [
    "from langchain_community.vectorstores import FAISS\n",
    "from langchain_openai import OpenAIEmbeddings\n",
    "from langchain_text_splitters import CharacterTextSplitter\n",
    "from langchain_text_splitters import RecursiveCharacterTextSplitter\n",
    "from langchain_google_genai import GoogleGenerativeAIEmbeddings\n",
    "\n",
    "embeddings = GoogleGenerativeAIEmbeddings(model=\"models/embedding-001\")\n",
    "\n",
    "text_splitter = CharacterTextSplitter(\n",
    "    chunk_size=1200,\n",
    "    chunk_overlap=500,\n",
    "    length_function=len,\n",
    "    is_separator_regex=False,\n",
    ")\n",
    "docs_split = text_splitter.split_documents(docs)\n",
    "\n",
    "db = FAISS.from_documents(docs_split, embeddings)\n",
    "print(db.index.ntotal)\n",
    "\n",
    "retriever = db.as_retriever( search_kwargs={\"k\": 6} )"
   ]
  },
  {
   "cell_type": "markdown",
   "metadata": {},
   "source": [
    "Hacemos una prueba rápida del retriever:"
   ]
  },
  {
   "cell_type": "code",
   "execution_count": 188,
   "metadata": {},
   "outputs": [
    {
     "name": "stdout",
     "output_type": "stream",
     "text": [
      "https://isep-cba.edu.ar/web/2024/05/27/prematriculaciones-abiertas-para-las-propuestas-que-iniciaran-en-el-segundo-semestre-de-2024/\n",
      "Inscripciones\n",
      "Contacto\n",
      "Buscar\n",
      "\n",
      "\n",
      "Prematriculaciones abiertas para las propuestas que se iniciarán en el segundo semestre de 2024\n",
      "\n",
      "mayo 27, 2024Micaela Militich \n",
      "\n",
      "El período de inscripción comienza el 30 de mayo y permanecerá abierto hasta completar el cupo disponible en cada una de las propuestas. Conocé, en esta nota, toda la información sobre cómo concretar el proceso de prematriculación.\n",
      "\n",
      "Desde el Instituto Superior de Estudios Pedagógicos (ISEP) informamos que se encuentra abierto el período de prematriculación para diversas propuestas formativas.\n",
      "Los/las interesados/as podrán realizar el trámite de prematriculación a través de nuestro portal web: www.isep-cba.edu.ar, ingresando a la pestaña Inscripciones, o haciendo clic aquí.\n",
      "Cada una de las propuestas permanecerá abierta hasta completar el cupo disponible. En ese sentido, es importante tener en cuenta que el proceso de prematriculación considerará el orden de inscripción. \n",
      "\n",
      "\n",
      "PREMATRICULARSE\n",
      "https://isep-cba.edu.ar/web/2024/05/27/prematriculaciones-abiertas-para-las-propuestas-que-iniciaran-en-el-segundo-semestre-de-2024/\n",
      "Prematriculaciones abiertas para las propuestas que se iniciarán en el segundo semestre de 2024 | ISEP\n",
      "\n",
      "\n",
      "Portal ISEP\n",
      "\n",
      "\n",
      "Iniciar sesión\n",
      "\n",
      "Facebook\n",
      "\n",
      "\n",
      "Facebook\n",
      "\n",
      "\n",
      "YouTube\n",
      "\n",
      "\n",
      "YouTube\n",
      "\n",
      "\n",
      "Instagram\n",
      "\n",
      "\n",
      "Instagram\n",
      "\n",
      "MenúInstitucional\n",
      "\n",
      "Sobre el ISEP\n",
      "\n",
      "Quiénes somos \n",
      "Equipos de trabajo \n",
      "Integrantes del ISEP \n",
      "IFD Asociados al ISEP \n",
      "Autoridades \n",
      "\n",
      "\n",
      "Programas institucionales\n",
      "\n",
      "Nuevos lugares docentes \n",
      "Entre Lenguas \n",
      "Cultura Digital \n",
      "Hablar, leer y escribir \n",
      "\n",
      "\n",
      "Publicaciones\n",
      "\n",
      "Revista Scholé \n",
      "Libros\n",
      "\n",
      "Colección “Pedagogía y Cultura” \n",
      "\n",
      "\n",
      "Itinerarios en el tiempo \n",
      "Anuarios\n",
      "\n",
      "2022 \n",
      "2023 \n",
      "\n",
      "\n",
      "Nuestras plataformas\n",
      "\n",
      "Hacemos Escuela \n",
      "Canal ISEP en YouTube \n",
      "\n",
      "\n",
      "Oferta académica\n",
      "\n",
      "Explorá nuestras propuestas formativas \n",
      "Sobre nuestra oferta académica \n",
      "Reglamento Académico Institucional \n",
      "\n",
      "\n",
      "Inscripciones\n",
      "Contacto\n",
      "Buscar\n",
      "\n",
      "\n",
      "Prematriculaciones abiertas para las propuestas que se iniciarán en el segundo semestre de 2024\n",
      "\n",
      "mayo 27, 2024Micaela Militich \n",
      "\n",
      "El período de inscripción comienza el 30 de mayo y permanecerá abierto hasta completar el cupo disponible en cada una de las propuestas. Conocé, en esta nota, toda la información sobre cómo concretar el proceso de prematriculación.\n",
      "https://isep-cba.edu.ar/web/2024/02/05/prematriculaciones-abiertas-conoce-las-propuestas-formativas-disponibles/\n",
      "Oferta académica\n",
      "\n",
      "Explorá nuestras propuestas formativas \n",
      "Sobre nuestra oferta académica \n",
      "Reglamento Académico Institucional \n",
      "\n",
      "\n",
      "Inscripciones\n",
      "Contacto\n",
      "Buscar\n",
      "\n",
      "\n",
      "Prematriculaciones abiertas: conocé las propuestas formativas disponibles\n",
      "\n",
      "febrero 5, 2024M Orlandi \n",
      "\n",
      "El período de inscripción comienza el 5 de febrero y permanecerá abierto hasta completar el cupo disponible en cada una de las propuestas. Accedé, en esta nota, a toda la información sobre cómo concretar el proceso de prematriculación.\n",
      "\n",
      "Desde el Instituto Superior de Estudios Pedagógicos (ISEP) informamos que se abrió, desde el 5 de febrero, el período de prematriculación para diversas propuestas formativas, las cuales se detallan más abajo.\n",
      "Los/las interesados/as podrán realizar el trámite de prematriculación a través de nuestro portal web: www.isep-cba.edu.ar, ingresando a la pestaña Inscripciones, o haciendo clic en el siguiente enlace:\n",
      "\n",
      "\n",
      "PREMATRICULARSE\n",
      "\n",
      "\n",
      "Cada una de las propuestas permanecerá abierta hasta completar el cupo disponible. En ese sentido, es importante tener en cuenta que el proceso de prematriculación considerará el orden de inscripción.\n",
      "https://isep-cba.edu.ar/web/2024/02/05/prematriculaciones-abiertas-conoce-las-propuestas-formativas-disponibles/\n",
      "Prematriculaciones abiertas: conocé las propuestas formativas disponibles | ISEP\n",
      "\n",
      "\n",
      "Portal ISEP\n",
      "\n",
      "\n",
      "Iniciar sesión\n",
      "\n",
      "Facebook\n",
      "\n",
      "\n",
      "Facebook\n",
      "\n",
      "\n",
      "YouTube\n",
      "\n",
      "\n",
      "YouTube\n",
      "\n",
      "\n",
      "Instagram\n",
      "\n",
      "\n",
      "Instagram\n",
      "\n",
      "MenúInstitucional\n",
      "\n",
      "Sobre el ISEP\n",
      "\n",
      "Quiénes somos \n",
      "Equipos de trabajo \n",
      "Integrantes del ISEP \n",
      "IFD Asociados al ISEP \n",
      "Autoridades \n",
      "\n",
      "\n",
      "Programas institucionales\n",
      "\n",
      "Nuevos lugares docentes \n",
      "Entre Lenguas \n",
      "Cultura Digital \n",
      "Hablar, leer y escribir \n",
      "\n",
      "\n",
      "Publicaciones\n",
      "\n",
      "Revista Scholé \n",
      "Libros\n",
      "\n",
      "Colección “Pedagogía y Cultura” \n",
      "\n",
      "\n",
      "Itinerarios en el tiempo \n",
      "Anuarios\n",
      "\n",
      "2022 \n",
      "2023 \n",
      "\n",
      "\n",
      "Nuestras plataformas\n",
      "\n",
      "Hacemos Escuela \n",
      "Canal ISEP en YouTube \n",
      "\n",
      "\n",
      "Oferta académica\n",
      "\n",
      "Explorá nuestras propuestas formativas \n",
      "Sobre nuestra oferta académica \n",
      "Reglamento Académico Institucional \n",
      "\n",
      "\n",
      "Inscripciones\n",
      "Contacto\n",
      "Buscar\n",
      "\n",
      "\n",
      "Prematriculaciones abiertas: conocé las propuestas formativas disponibles\n",
      "\n",
      "febrero 5, 2024M Orlandi \n",
      "\n",
      "El período de inscripción comienza el 5 de febrero y permanecerá abierto hasta completar el cupo disponible en cada una de las propuestas. Accedé, en esta nota, a toda la información sobre cómo concretar el proceso de prematriculación.\n",
      "https://isep-cba.edu.ar/web/2024/02/05/prematriculaciones-abiertas-conoce-las-propuestas-formativas-disponibles/\n",
      "Cada una de las propuestas permanecerá abierta hasta completar el cupo disponible. En ese sentido, es importante tener en cuenta que el proceso de prematriculación considerará el orden de inscripción. \n",
      "\n",
      "| Ateneo de Inglés | Quinta Hora – Primer Ciclo de la Educación Primaria\n",
      "Propone un acercamiento a las propuestas de enseñanza del Primer Ciclo, a sus supuestos y decisiones, promoviendo así un análisis didáctico que permita un ejercicio de implementación y la reflexión posterior sobre la experiencia.\n",
      "Comienzo de cursada: marzo 2024.\n",
      "Para más información, clic aquí.\n",
      "| Ateneo Didáctico de Inglés en Jornada Extendida \n",
      "Se orienta a acompañar un proceso de análisis e implementación de los materiales con los que cuenta el Programa Entre Lenguas para cuarto, quinto y sexto grado. Estas publicaciones se encuentran alojadas en la plataforma Hacemos escuela y están disponibles para su uso.\n",
      "En esta oportunidad, el Ciclo de Ateneos Didácticos ofrece su Primer Ateneo, que pretende abordar los desafíos pedagógicos y didácticos que plantean la enseñanza y el aprendizaje de la cultura inglesa en la escuela primaria.\n",
      "Comienzo de cursada: mayo 2024.\n",
      "Para más información, clic aquí.\n",
      "https://isep-cba.edu.ar/web/2024/04/03/trayecto-pedagogico-para-graduados-no-docentes-prematriculaciones-abiertas-en-el-isep/\n",
      "PREMATRICULARSE\n",
      "\n",
      "\n",
      "Es importante tener en cuenta que la prematriculación es con cupo y que se considerará el orden de inscripción. \n",
      "Sobre la propuesta\n",
      "La finalidad general de la propuesta es aportar a la profesionalidad docente propiciando la construcción de un sistema de saberes de diverso orden que nutra el análisis de la realidad educativa y escolar, y favorecer la construcción de propuestas de intervención docente. Este proceso requiere la movilización de las formas de pensar, de sentir y de actuar que se han formado en la propia experiencia docente. \n",
      "Se abordará un análisis de la tarea educativa y pedagógica, inserta en un contexto global, local e institucional, reconociendo sus complejidades, las herencias de una configuración histórica y la relación con los desafíos que plantean las políticas educativas actuales.\n",
      "Destinatarios \n",
      "La propuesta está destinada a personas con título Superior no docente (universitario o no) que esté categorizado con alcance “habilitante de nivel Superior” para cualquier espacio curricular en la Educación Secundaria de Córdoba, de acuerdo con la ¹lista anexa 2024, y que cumplan con alguna de las siguientes condiciones:\n"
     ]
    }
   ],
   "source": [
    "ans = retriever.invoke(\"¿Qué propuestas se abren para prematriculaciones en el segundo semestre?\")\n",
    "\n",
    "\n",
    "for a in ans:\n",
    "    print(a.metadata['source'])\n",
    "    print(a.page_content)"
   ]
  },
  {
   "cell_type": "markdown",
   "metadata": {},
   "source": [
    "Todo OK!!! 👌👌"
   ]
  },
  {
   "cell_type": "markdown",
   "metadata": {},
   "source": [
    "---"
   ]
  },
  {
   "cell_type": "markdown",
   "metadata": {},
   "source": [
    "## Definimos a los agentes\n",
    "\n",
    "A continuación vamos a definir los distintos agentes que participan en el sistema. El sistema va a consistir de 5 agentes:\n",
    "\n",
    "- Un agente que a partir de una consulta inicial, decide si debe buscar en la BD vectorial, o si debe hacer la consulta a un CSV.\n",
    "- Un agente que consulta datos a un CSV.\n",
    "- Un agente que corrije el formato de salida del agente anterior.\n",
    "- Un agente que consulta información a una BD vectorial, con datos de posts del 2024 del [sitio web institucional](https://isep-cba.edu.ar/web/).\n",
    "- Un agente que realiza RAG a partir del contexto obtenido por el agente anterior."
   ]
  },
  {
   "cell_type": "markdown",
   "metadata": {},
   "source": [
    "### Agente que consulta datos al CSV para analítica de datos\n",
    "\n",
    "**Propósito**: Este agente va a realizar una consulta a un CSV, para esto se hace uso de la función `create_csv_agent` que devuelve un agente capaz de interactuar con un dataframe que se construye a partir de un CSV. Este agente hace uso internamente del framework `ReAct` (Reason + Act)."
   ]
  },
  {
   "cell_type": "code",
   "execution_count": 189,
   "metadata": {},
   "outputs": [],
   "source": [
    "from langchain_experimental.agents.agent_toolkits import create_csv_agent\n",
    "from langchain.agents.agent_types import AgentType\n",
    "\n",
    "path_csv = \"https://docs.google.com/spreadsheets/d/1DJf-7PD5pje0YXSuYezBTglg_EFQb0C88WqJEFWVpe4/export?format=csv\"\n",
    "\n",
    "csv_agent = create_csv_agent(\n",
    "    llm,\n",
    "    path_csv,\n",
    "    verbose=True,\n",
    "    agent_type=AgentType.ZERO_SHOT_REACT_DESCRIPTION,\n",
    "    allow_dangerous_code=True,\n",
    "    return_intermediate_steps=True\n",
    ")"
   ]
  },
  {
   "cell_type": "code",
   "execution_count": 190,
   "metadata": {},
   "outputs": [],
   "source": [
    "# Define the function that calls the model\n",
    "import pandas as pd\n",
    "\n",
    "def call_csv_agent(state):\n",
    "    print(\"---CSV AGENT---\")\n",
    "\n",
    "    question = state[\"question\"]\n",
    "\n",
    "    with pd.option_context('display.max_rows', None,\n",
    "                       'display.max_columns', None,\n",
    "                       ):\n",
    "        response = csv_agent(question)\n",
    "\n",
    "        output = response['output']\n",
    "\n",
    "        global intermediate_steps_glob\n",
    "        intermediate_steps_glob= response['intermediate_steps']\n",
    "\n",
    "        print(response['intermediate_steps'])\n",
    "        print(\"//\" * 30)\n",
    "\n",
    "        \"\"\"for step in response['intermediate_steps'][0]:\n",
    "            intermediate_steps = intermediate_steps + step.log\"\"\"\n",
    "        intermediate_steps = response['intermediate_steps'][0][0].log\n",
    "\n",
    "    #\n",
    "    return {\"messages\": [output], \"question\": question, \"intermediate_steps\": intermediate_steps}"
   ]
  },
  {
   "cell_type": "markdown",
   "metadata": {},
   "source": [
    "### Agente que \"corrige\" el formato de salida de tablas principalmente\n",
    "\n",
    "**Propósito**: Este agente tiene por objetivo \"corregir\" el formato de salida del agente anterior. Si el agente anterior devuelve una \"tabla\", este agente va a regenerar dicha tabla en formato Markdown, va a cambiar los nombres de las columnas a un formato más \"amigable\" y le va a agregar un título descriptivo. Además, proporciona una descripción de los pasos realizados por el agente anterior a modo de que el usuario final pueda tener una forma de \"traza\" de las acciones ejecutadas por el agente previo.\n",
    "\n",
    "Gracias al mecanismo de **estado** que provee LangGraph, podemos mantener un \"histórico\" entre agentes, en este caso, se aprovecha para poder recuperar la trazabilidad."
   ]
  },
  {
   "cell_type": "code",
   "execution_count": 191,
   "metadata": {},
   "outputs": [],
   "source": [
    "from langchain.prompts import PromptTemplate\n",
    "from langchain.agents import Agent\n",
    "\n",
    "template = \"\"\"\n",
    "Eres un agente amable y especializado en cambiar el formato de salida del input\n",
    "que recibe de otro primer agente analítico.\n",
    "\n",
    "La pregunta original que responde el primer agente es: {question}\\n\n",
    "\n",
    "Debe considerar sólo una de las siguientes opciones:\n",
    "\n",
    "1) Si la respuesta del agente analítico contiene una tabla, deberá cambiar los\n",
    "nombres de las columnas por nombres que sean más \"amigables\" o fáciles de\n",
    "entender, por ejemplo:\n",
    "\n",
    "\"linea_formativa\" -> \"Línea Formativa\"\n",
    "\"anio\" -> \"Año\"\n",
    "\"matricula_inicial\" -> \"Matrícula Inicial\"\n",
    "\"aprobados_seminario\" -> \"Aprobados Seminario\"\n",
    "y así sucesivamente...\n",
    "El nombre de la columna no debe ser muy diferentede la columna original\n",
    "\n",
    "Si los nombres de las columnas son años, se deben dejar tal como están.\n",
    "Si el nombre de la columna es un texto vacio, dejarlo como está.\n",
    "Debe respetar la estructura de la tabla original.\n",
    "Además debe transformar la tabla a formato markdown.\n",
    "Acompañe la tabla con un título descriptivo.\n",
    "\n",
    "2) Si la respuesta del primer agente no contiene una tabla, entonces sólo debe responder con el resultado del primer agente.\n",
    "Agregue una descripción inicial de lo que se está respondiendo tomando como referencia la pregunta original.\n",
    "\n",
    "\n",
    "Respuesta agente analítico:\\n {input}\\n\n",
    "\n",
    "Finalmente agregue a la respuesta una explicación breve de los pasos realizados por el agente analítico a\n",
    "partir de la siguiente información que debe traducir al español. Solo utilice la sección \"Though\" y\n",
    "no sea técnico.\n",
    "\n",
    "Pasos realizados por el agente analítico: {intermediate_steps}\\n\n",
    "\n",
    "Respuesta:\\n\n",
    "\"\"\"\n",
    "\n",
    "# Define your custom prompt for the CSV agent\n",
    "custom_prompt = PromptTemplate(\n",
    "    input_variables=[\"input\",\"question\",\"intermediate_steps\"],\n",
    "    template=template\n",
    ")"
   ]
  },
  {
   "cell_type": "code",
   "execution_count": 192,
   "metadata": {},
   "outputs": [],
   "source": [
    "from langchain_core.output_parsers import StrOutputParser\n",
    "from IPython.display import display, Markdown\n",
    "\n",
    "agent = (\n",
    "    custom_prompt\n",
    "    | llm\n",
    "    | StrOutputParser()\n",
    ")\n",
    "\n",
    "def call_parse_output_agent(state):\n",
    "    messages = state['messages']\n",
    "    question = state['question']\n",
    "    documents = state['documents']\n",
    "    intermediate_steps = state['intermediate_steps']\n",
    "\n",
    "    last_message = messages[-1]\n",
    "    response_csv_agent = last_message.content\n",
    "\n",
    "    response = agent.invoke({\"input\": response_csv_agent, \"question\": question, \"intermediate_steps\": intermediate_steps})\n",
    "\n",
    "    return {\"messages\": [response], \"documents\" : documents}"
   ]
  },
  {
   "cell_type": "markdown",
   "metadata": {},
   "source": [
    "### Agente que consulta información a una BD Vectorial (RAG)\n",
    "\n",
    "Propósito: El propósito de este agente (o nodo) es el de consultar a la BD vectorial, y obtener los documentos que más se asemejen (o más similares) a la consulta inicial. Luego estos documentos serán utilizados por el siguiente agente."
   ]
  },
  {
   "cell_type": "code",
   "execution_count": 193,
   "metadata": {},
   "outputs": [],
   "source": [
    "def retrieve(state):\n",
    "    \"\"\"\n",
    "    Retrieve documents\n",
    "\n",
    "    Args:\n",
    "        state (dict): The current graph state\n",
    "\n",
    "    Returns:\n",
    "        state (dict): New key added to state, documents, that contains retrieved documents\n",
    "    \"\"\"\n",
    "    print(\"---RETRIEVE DOCUMENTS---\")\n",
    "    question = state[\"question\"]\n",
    "\n",
    "    print(question)\n",
    "\n",
    "    # Retrieval\n",
    "    documents = retriever.get_relevant_documents(question)\n",
    "    return {\"documents\": documents, \"question\": question}"
   ]
  },
  {
   "cell_type": "markdown",
   "metadata": {},
   "source": [
    "### Agente que hace RAG\n",
    "\n",
    "**Propósito**: Este agente utiliza los documentos obtenidos por el agente anterior como contexto para responder a la consulta inicial del usuario."
   ]
  },
  {
   "cell_type": "code",
   "execution_count": 194,
   "metadata": {},
   "outputs": [],
   "source": [
    "# Post-processing\n",
    "def format_docs(docs):\n",
    "    return \"\\n\\n\".join(doc.page_content for doc in docs)\n",
    "\n",
    "\n",
    "def answer_with_RAG(state):\n",
    "    \"\"\"\n",
    "    Executes RAG using a set of documents as context\n",
    "\n",
    "    Args:\n",
    "        state (dict): The current graph state\n",
    "\n",
    "    Returns:\n",
    "        state (dict): New key 'Message' added to the state, which contains the answer to the initial user query.\n",
    "    \"\"\"\n",
    "    print(\"---ANSWER WITH RAG AGENT---\")\n",
    "\n",
    "    docs = format_docs(state[\"documents\"])\n",
    "\n",
    "    question = state[\"question\"]\n",
    "\n",
    "    prompt_template = \"\"\"A partir del siguiente contexto:\\n\n",
    "    \\n\n",
    "    ```\n",
    "    {context}\n",
    "    ```\n",
    "    \\n\n",
    "    Responde la pregunta del usuario de manera detallada. Si no conce la respuesta responda:\\n\n",
    "    \"No encontré información en mi basae de conocimiento!\"\\n\\n\n",
    "    Pregunta: {question}\n",
    "\n",
    "    \"\"\"\n",
    "\n",
    "    rag_prompt = PromptTemplate(\n",
    "        input_variables=[\"question\",\"context\"],\n",
    "        template=prompt_template\n",
    "    )\n",
    "\n",
    "    rag_chain = rag_prompt | llm | StrOutputParser()\n",
    "\n",
    "    generation = rag_chain.invoke({\"context\": docs, \"question\": question})\n",
    "\n",
    "    return {\"messages\": [generation]}\n"
   ]
  },
  {
   "cell_type": "markdown",
   "metadata": {},
   "source": [
    "### Agente \"enrutador\"\n",
    "\n",
    "**Propósito**: Es el agente inicial, encargado de decidir a partir de la pregunta del usuario si debe redirigir el trabajo hacia el agente que realiza RAG consultando una base de conocimientos con posts del sitio web de la institución, o bien, hacia el agente que consultará un CSV con datos analíticos."
   ]
  },
  {
   "cell_type": "code",
   "execution_count": 195,
   "metadata": {},
   "outputs": [],
   "source": [
    "from langchain_core.output_parsers import JsonOutputParser\n",
    "from langchain.prompts import PromptTemplate\n",
    "\n",
    "\n",
    "def route_question(state):\n",
    "    \"\"\"\n",
    "    Route question to csv_agent or RAG.\n",
    "\n",
    "    Args:\n",
    "        state (dict): The current graph state\n",
    "\n",
    "    Returns:\n",
    "        str: Next node to call\n",
    "    \"\"\"\n",
    "\n",
    "    print(\"---ROUTE QUESTION---\")\n",
    "\n",
    "    prompt_router = PromptTemplate(\n",
    "        template=\"\"\"Eres un experto redirigiendo la pregunta del usuario hacia un vectorstore o a \\n\n",
    "        un agente que resuelve preguntas sobre una fuente de datos (usando CSV). \\n\n",
    "        Use el vectorstore para preguntas relacionadas al ISEP en general, preguntas que se \\n\n",
    "        puedan responder usando la información provista en la página web del Instituto y \\n\n",
    "        que no tengan nada que ver con métricas o datos. \\n\n",
    "        No es necesario que sea estricto con las palabras clave de la pregunta relacionada con estos temas. \\n\n",
    "        Realice una decición binaria entre 'vectorstore' or 'agente_csv' en base a las preguntas. \\n\n",
    "        Devuelva únicamente un JSON con una unica clave 'datasource' y la decisión binaria. \\n\n",
    "        Pregunta a redirigir: {question}\"\"\",\n",
    "        input_variables=[\"question\"],\n",
    "    )\n",
    "\n",
    "    question_router = prompt_router | llm | JsonOutputParser()\n",
    "\n",
    "    question = state[\"question\"]\n",
    "    #print(question)\n",
    "    source = question_router.invoke({\"question\": question})\n",
    "    print(source)\n",
    "    print(source[\"datasource\"])\n",
    "    if source[\"datasource\"] == \"agente_csv\":\n",
    "        print(\"---ROUTE QUESTION TO CSV_AGENT---\")\n",
    "        return \"agente_csv\"\n",
    "    elif source[\"datasource\"] == \"vectorstore\":\n",
    "        print(\"---ROUTE QUESTION TO RAG---\")\n",
    "        return \"vectorstore\""
   ]
  },
  {
   "cell_type": "markdown",
   "metadata": {},
   "source": [
    "## Definimos el grafo"
   ]
  },
  {
   "cell_type": "markdown",
   "metadata": {},
   "source": [
    "### Definimos el estado del grafo"
   ]
  },
  {
   "cell_type": "code",
   "execution_count": 196,
   "metadata": {},
   "outputs": [],
   "source": [
    "from typing import Annotated, List\n",
    "\n",
    "from typing_extensions import TypedDict\n",
    "\n",
    "from langgraph.graph import StateGraph, START, END\n",
    "from langgraph.graph.message import add_messages\n",
    "\n",
    "\n",
    "class State(TypedDict):\n",
    "    # Messages have the type \"list\". The `add_messages` function\n",
    "    # in the annotation defines how this state key should be updated\n",
    "    # (in this case, it appends messages to the list, rather than overwriting them)\n",
    "    messages: Annotated[list, add_messages]\n",
    "    question: str\n",
    "    intermediate_steps: str\n",
    "    documents: List[str]"
   ]
  },
  {
   "cell_type": "markdown",
   "metadata": {},
   "source": [
    "### Construimos el grafo"
   ]
  },
  {
   "cell_type": "code",
   "execution_count": 197,
   "metadata": {},
   "outputs": [],
   "source": [
    "from langgraph.graph import END, StateGraph, START\n",
    "\n",
    "workflow = StateGraph(State)\n",
    "\n",
    "# Define the nodes\n",
    "workflow.add_node(\"retrieve\", retrieve)  # retrieve\n",
    "workflow.add_node(\"csv_agent\", call_csv_agent)  # retrieve\n",
    "workflow.add_node(\"parse_csv_output\", call_parse_output_agent)\n",
    "workflow.add_node(\"answer_RAG\", answer_with_RAG)\n",
    "\n",
    "# Build graph\n",
    "workflow.add_conditional_edges(\n",
    "    START,\n",
    "    route_question,\n",
    "    {\n",
    "        \"agente_csv\": \"csv_agent\",\n",
    "        \"vectorstore\": \"retrieve\",\n",
    "    },\n",
    ")\n",
    "\n",
    "workflow.add_edge(\"csv_agent\",\"parse_csv_output\")\n",
    "workflow.add_edge(\"retrieve\",\"answer_RAG\")\n",
    "\n",
    "graph = workflow.compile()"
   ]
  },
  {
   "cell_type": "markdown",
   "metadata": {},
   "source": [
    "### Visualizamos el grafo"
   ]
  },
  {
   "cell_type": "code",
   "execution_count": 198,
   "metadata": {},
   "outputs": [
    {
     "data": {
      "image/jpeg": "[encoded data removed]",
      "text/plain": [
       "<IPython.core.display.Image object>"
      ]
     },
     "metadata": {},
     "output_type": "display_data"
    }
   ],
   "source": [
    "from IPython.display import Image, display\n",
    "\n",
    "try:\n",
    "    display(Image(graph.get_graph().draw_mermaid_png()))\n",
    "except Exception:\n",
    "    # This requires some extra dependencies and is optional\n",
    "    pass"
   ]
  },
  {
   "cell_type": "markdown",
   "metadata": {},
   "source": [
    "---"
   ]
  },
  {
   "cell_type": "markdown",
   "metadata": {},
   "source": [
    "## Ponemos en marcha el multi-agente"
   ]
  },
  {
   "cell_type": "markdown",
   "metadata": {},
   "source": [
    "### Consultas analíticas (sobre métricas)"
   ]
  },
  {
   "cell_type": "code",
   "execution_count": 199,
   "metadata": {},
   "outputs": [
    {
     "name": "stdout",
     "output_type": "stream",
     "text": [
      "---ROUTE QUESTION---\n",
      "{'datasource': 'agente_csv'}\n",
      "agente_csv\n",
      "---ROUTE QUESTION TO CSV_AGENT---\n",
      "---CSV AGENT---\n",
      "\n",
      "\n",
      "\u001b[1m> Entering new AgentExecutor chain...\u001b[0m\n",
      "\u001b[32;1m\u001b[1;3mThought: I need to group the dataframe by 'tipo' and 'anio' and then count the number of 'cursantes' for each group.\n",
      "Action: python_repl_ast\n",
      "Action Input: print(df.groupby(['tipo', 'anio'])['cursantes'].count())\u001b[0m\u001b[36;1m\u001b[1;3mtipo                 anio\n",
      "Curso                2016      4\n",
      "                     2017     21\n",
      "                     2018     48\n",
      "                     2019     41\n",
      "                     2020     65\n",
      "                     2021    105\n",
      "                     2022    141\n",
      "                     2023    207\n",
      "                     2024    182\n",
      "Formación académica  2017      1\n",
      "                     2018     24\n",
      "                     2019     35\n",
      "                     2020     37\n",
      "                     2021     22\n",
      "                     2022     18\n",
      "                     2023      6\n",
      "Postítulo            2016     23\n",
      "                     2017     66\n",
      "                     2018     89\n",
      "                     2019     97\n",
      "                     2020    122\n",
      "                     2021    139\n",
      "                     2022    143\n",
      "                     2023     93\n",
      "                     2024     64\n",
      "Profesorado          2018     58\n",
      "                     2019     87\n",
      "                     2020     83\n",
      "                     2021    126\n",
      "                     2022     87\n",
      "                     2023     71\n",
      "                     2024     14\n",
      "Name: cursantes, dtype: int64\n",
      "\u001b[0m\u001b[32;1m\u001b[1;3mThought: I need to filter the dataframe for the year 2022 and then group by 'tipo' and count the 'cursantes' column.\n",
      "Action: python_repl_ast\n",
      "Action Input: print(df[df['anio'] == 2022].groupby('tipo')['cursantes'].count())\u001b[0m\u001b[36;1m\u001b[1;3mtipo\n",
      "Curso                  141\n",
      "Formación académica     18\n",
      "Postítulo              143\n",
      "Profesorado             87\n",
      "Name: cursantes, dtype: int64\n",
      "\u001b[0m\u001b[32;1m\u001b[1;3mThought: I now know the final answer\n",
      "Final Answer: | tipo | cursantes |\n",
      "|---|---|\n",
      "| Curso | 141 |\n",
      "| Formación académica | 18 |\n",
      "| Postítulo | 143 |\n",
      "| Profesorado | 87 | \n",
      "\u001b[0m\n",
      "\n",
      "\u001b[1m> Finished chain.\u001b[0m\n",
      "[(AgentAction(tool='python_repl_ast', tool_input=\"print(df.groupby(['tipo', 'anio'])['cursantes'].count())\", log=\"Thought: I need to group the dataframe by 'tipo' and 'anio' and then count the number of 'cursantes' for each group.\\nAction: python_repl_ast\\nAction Input: print(df.groupby(['tipo', 'anio'])['cursantes'].count())\"), 'tipo                 anio\\nCurso                2016      4\\n                     2017     21\\n                     2018     48\\n                     2019     41\\n                     2020     65\\n                     2021    105\\n                     2022    141\\n                     2023    207\\n                     2024    182\\nFormación académica  2017      1\\n                     2018     24\\n                     2019     35\\n                     2020     37\\n                     2021     22\\n                     2022     18\\n                     2023      6\\nPostítulo            2016     23\\n                     2017     66\\n                     2018     89\\n                     2019     97\\n                     2020    122\\n                     2021    139\\n                     2022    143\\n                     2023     93\\n                     2024     64\\nProfesorado          2018     58\\n                     2019     87\\n                     2020     83\\n                     2021    126\\n                     2022     87\\n                     2023     71\\n                     2024     14\\nName: cursantes, dtype: int64\\n'), (AgentAction(tool='python_repl_ast', tool_input=\"print(df[df['anio'] == 2022].groupby('tipo')['cursantes'].count())\", log=\"Thought: I need to filter the dataframe for the year 2022 and then group by 'tipo' and count the 'cursantes' column.\\nAction: python_repl_ast\\nAction Input: print(df[df['anio'] == 2022].groupby('tipo')['cursantes'].count())\"), 'tipo\\nCurso                  141\\nFormación académica     18\\nPostítulo              143\\nProfesorado             87\\nName: cursantes, dtype: int64\\n')]\n",
      "////////////////////////////////////////////////////////////\n"
     ]
    }
   ],
   "source": [
    "pregunta_1 = \"Necesito una tabla con cantidad de cursantes por tipo de carrera, en el año 2022\"\n",
    "\n",
    "inputs = {\"question\": pregunta_1}\n",
    "\n",
    "ans = graph.invoke(inputs)\n"
   ]
  },
  {
   "cell_type": "code",
   "execution_count": 200,
   "metadata": {},
   "outputs": [
    {
     "data": {
      "text/markdown": [
       "## Cantidad de Cursantes por Tipo de Carrera en 2022\n",
       "\n",
       "| Tipo de Carrera | Cursantes |\n",
       "|---|---|\n",
       "| Curso | 141 |\n",
       "| Formación académica | 18 |\n",
       "| Postítulo | 143 |\n",
       "| Profesorado | 87 |\n",
       "\n",
       "El agente analítico agrupó la información por tipo de carrera y año, y luego contó la cantidad de cursantes en cada grupo. \n"
      ],
      "text/plain": [
       "<IPython.core.display.Markdown object>"
      ]
     },
     "metadata": {},
     "output_type": "display_data"
    }
   ],
   "source": [
    "display(Markdown(ans[\"messages\"][-1].content))"
   ]
  },
  {
   "cell_type": "markdown",
   "metadata": {},
   "source": [
    "### Consultas de información asociada al sitio web de la institución"
   ]
  },
  {
   "cell_type": "code",
   "execution_count": 201,
   "metadata": {},
   "outputs": [
    {
     "name": "stdout",
     "output_type": "stream",
     "text": [
      "---ROUTE QUESTION---\n",
      "{'datasource': 'vectorstore'}\n",
      "vectorstore\n",
      "---ROUTE QUESTION TO RAG---\n",
      "---RETRIEVE DOCUMENTS---\n",
      "Necesito los datos de contacto del ISEP, esta información está en la web\n",
      "---ANSWER WITH RAG AGENT---\n",
      "\n",
      "\n",
      "============================================================\n",
      "RESPUESTA FINAL:\n",
      "============================================================\n"
     ]
    },
    {
     "data": {
      "text/markdown": [
       "La información de contacto del ISEP se encuentra en la página web y es la siguiente:\n",
       "\n",
       "* **Ubicación:** Agustín Garzón 1229, Barrio San Vicente, Córdoba, Argentina.\n",
       "* **Teléfono:** 0351 – 4338615.\n",
       "* **Correo electrónico:** info@isep-cba.edu.ar\n",
       "* **Mesa de Ayuda:**\n",
       "    * **E-mail:** mesadeayuda@isep-cba.edu.ar\n",
       "    * **Teléfono:** (0351) 4 33 8615\n",
       "    * **Horario de atención:** de lunes a viernes de 9 a 19 hs. \n"
      ],
      "text/plain": [
       "<IPython.core.display.Markdown object>"
      ]
     },
     "metadata": {},
     "output_type": "display_data"
    }
   ],
   "source": [
    "pregunta_1 = \"Necesito los datos de contacto del ISEP, esta información está en la web\"\n",
    "\n",
    "inputs = {\"question\": pregunta_1}\n",
    "\n",
    "ans = graph.invoke(inputs)\n",
    "\n",
    "print(\"\\n\")\n",
    "print(\"=\"*60)\n",
    "print(\"RESPUESTA FINAL:\")\n",
    "print(\"=\"*60)\n",
    "display(Markdown(ans[\"messages\"][-1].content))"
   ]
  },
  {
   "cell_type": "code",
   "execution_count": 202,
   "metadata": {},
   "outputs": [
    {
     "name": "stdout",
     "output_type": "stream",
     "text": [
      "---ROUTE QUESTION---\n",
      "{'datasource': 'vectorstore'}\n",
      "vectorstore\n",
      "---ROUTE QUESTION TO RAG---\n",
      "---RETRIEVE DOCUMENTS---\n",
      "Necesito información sobre prematriculaciones en el segundo semestre del 2024, esta información está en la web\n",
      "---ANSWER WITH RAG AGENT---\n",
      "\n",
      "\n",
      "============================================================\n",
      "RESPUESTA FINAL:\n",
      "============================================================\n"
     ]
    },
    {
     "data": {
      "text/markdown": [
       "Sí, la información sobre las prematriculas para el segundo semestre de 2024 está disponible en la página web del ISEP. \n",
       "\n",
       "**Aquí te resumo lo que encontré:**\n",
       "\n",
       "* **Prematriculación abierta:** El período de prematriculación para las propuestas que comienzan en el segundo semestre de 2024 ya está abierto.\n",
       "* **Fecha de inicio:** El período de inscripción comienza el 30 de mayo de 2024.\n",
       "* **Duración:** La prematriculación permanecerá abierta hasta completar el cupo disponible en cada propuesta.\n",
       "* **Cómo prematricularse:** Puedes realizar el trámite de prematriculación a través del portal web del ISEP: www.isep-cba.edu.ar, ingresando a la pestaña \"Inscripciones\" o haciendo clic en el enlace que aparece en la noticia.\n",
       "* **Orden de inscripción:** El proceso de prematriculación considerará el orden de inscripción, por lo que es importante realizarla lo antes posible.\n",
       "\n",
       "**Para obtener más información sobre las propuestas formativas disponibles y cómo concretar el proceso de prematriculación, te recomiendo que visites la página web del ISEP.**\n"
      ],
      "text/plain": [
       "<IPython.core.display.Markdown object>"
      ]
     },
     "metadata": {},
     "output_type": "display_data"
    }
   ],
   "source": [
    "pregunta_1 = \"Necesito información sobre prematriculaciones en el segundo semestre del 2024, esta información está en la web\"\n",
    "\n",
    "inputs = {\"question\": pregunta_1}\n",
    "\n",
    "ans = graph.invoke(inputs)\n",
    "\n",
    "print(\"\\n\")\n",
    "print(\"=\"*60)\n",
    "print(\"RESPUESTA FINAL:\")\n",
    "print(\"=\"*60)\n",
    "display(Markdown(ans[\"messages\"][-1].content))"
   ]
  },
  {
   "cell_type": "code",
   "execution_count": 203,
   "metadata": {},
   "outputs": [
    {
     "name": "stdout",
     "output_type": "stream",
     "text": [
      "---ROUTE QUESTION---\n",
      "{'datasource': 'vectorstore'}\n",
      "vectorstore\n",
      "---ROUTE QUESTION TO RAG---\n",
      "---RETRIEVE DOCUMENTS---\n",
      "Necesito información sobre el Ciclo Ciencias de la Computación en la Escuela, esta información está en la web\n",
      "---ANSWER WITH RAG AGENT---\n",
      "\n",
      "\n",
      "============================================================\n",
      "RESPUESTA FINAL:\n",
      "============================================================\n"
     ]
    },
    {
     "data": {
      "text/markdown": [
       "El Ciclo Ciencias de la Computación en la Escuela ofrece dos seminarios:\n",
       "\n",
       "* **\"Análisis de Propuestas de Enseñanza en la Modalidad Combinada\"**: Este seminario indaga las potencialidades que otorgan diferentes entornos sociotécnicos para la enseñanza, con especial atención al rol de las herramientas digitales en los distintos escenarios. Comienza en octubre de 2024.\n",
       "* **\"Ciencias de la Computación y su Enseñanza\"**: Este seminario ofrece una introducción al campo disciplinar concreto de las Ciencias de la Computación y a algunas cuestiones fundamentales para tener en cuenta a la hora de su enseñanza. Comienza en octubre de 2024.\n",
       "\n",
       "**Importante:** Los dos seminarios se cursan de forma consecutiva, primero \"Análisis de Propuestas de Enseñanza en la Modalidad Combinada\" en agosto y luego \"Ciencias de la Computación y su Enseñanza\" en octubre. Si deseas dar continuidad al Ciclo, debes inscribirte en ambos seminarios. \n"
      ],
      "text/plain": [
       "<IPython.core.display.Markdown object>"
      ]
     },
     "metadata": {},
     "output_type": "display_data"
    }
   ],
   "source": [
    "pregunta_1 = \"Necesito información sobre el Ciclo Ciencias de la Computación en la Escuela, esta información está en la web\"\n",
    "\n",
    "inputs = {\"question\": pregunta_1}\n",
    "\n",
    "ans = graph.invoke(inputs)\n",
    "\n",
    "print(\"\\n\")\n",
    "print(\"=\"*60)\n",
    "print(\"RESPUESTA FINAL:\")\n",
    "print(\"=\"*60)\n",
    "display(Markdown(ans[\"messages\"][-1].content))"
   ]
  }
 ],
 "metadata": {
  "kernelspec": {
   "display_name": "Python 3",
   "language": "python",
   "name": "python3"
  },
  "language_info": {
   "codemirror_mode": {
    "name": "ipython",
    "version": 3
   },
   "file_extension": ".py",
   "mimetype": "text/x-python",
   "name": "python",
   "nbconvert_exporter": "python",
   "pygments_lexer": "ipython3",
   "version": "3.11.9"
  }
 },
 "nbformat": 4,
 "nbformat_minor": 2
}
